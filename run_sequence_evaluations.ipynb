{
 "cells": [
  {
   "cell_type": "code",
   "execution_count": 1,
   "id": "165eaa67-ceb0-4322-a888-cc9720d842bb",
   "metadata": {},
   "outputs": [],
   "source": [
    "import numpy as np\n",
    "from numpy import load\n",
    "import h5py\n",
    "import pandas as pd\n",
    "import torch\n",
    "import lightning as L\n",
    "from pytorch_lightning import LightningModule\n",
    "from scipy import linalg\n",
    "import scipy\n",
    "import tqdm\n",
    "from itertools import product"
   ]
  },
  {
   "cell_type": "code",
   "execution_count": 2,
   "id": "73cf304d-0639-445e-b861-e95d3456f441",
   "metadata": {},
   "outputs": [],
   "source": [
    "from PL_DeepSTARR import *\n",
    "from seq_evals_improved import *\n",
    "from helpers import *"
   ]
  },
  {
   "cell_type": "code",
   "execution_count": 3,
   "id": "82948ba5-beda-428e-a465-4e65f67ef0c9",
   "metadata": {},
   "outputs": [],
   "source": [
    "samples_file_path = 'samples.npz'\n",
    "deepSTARR_data = 'DeepSTARR_data.h5'\n",
    "oracle_path = 'oracle_DeepSTARR_DeepSTARR_data.ckpt'"
   ]
  },
  {
   "cell_type": "code",
   "execution_count": 4,
   "id": "ae059470-ddb6-4881-80c1-ab054996bdb2",
   "metadata": {},
   "outputs": [
    {
     "name": "stderr",
     "output_type": "stream",
     "text": [
      "/opt/anaconda3/lib/python3.12/site-packages/torch/nn/modules/lazy.py:181: UserWarning: Lazy modules are a new feature under heavy development so changes to the API or functionality can happen at any moment.\n",
      "  warnings.warn('Lazy modules are a new feature under heavy development '\n"
     ]
    }
   ],
   "source": [
    "deepstarr = load_deepstarr(oracle_path)"
   ]
  },
  {
   "cell_type": "code",
   "execution_count": 5,
   "id": "7e18a9da-c80d-47f7-861c-5c53de1ee5a4",
   "metadata": {},
   "outputs": [],
   "source": [
    "#load data\n",
    "x_test_tensor, x_synthetic_tensor = extract_data(samples_file_path, deepSTARR_data)"
   ]
  },
  {
   "cell_type": "markdown",
   "id": "4c20f161-ea0f-417e-ba84-a81052fafac0",
   "metadata": {},
   "source": [
    "<h2>Functional similarity: Conditional generation fidelity</h2>"
   ]
  },
  {
   "cell_type": "code",
   "execution_count": 15,
   "id": "3f2d8bab-ab7d-44c8-8293-d5cb75ff3e2a",
   "metadata": {},
   "outputs": [],
   "source": [
    "#make predictions\n",
    "y_hat_test, y_hat_syn = load_predictions(x_test_tensor, x_synthetic_tensor, deepstarr)"
   ]
  },
  {
   "cell_type": "code",
   "execution_count": 16,
   "id": "3bb35f76-97ab-4a86-8bc8-45362ced683f",
   "metadata": {},
   "outputs": [
    {
     "name": "stdout",
     "output_type": "stream",
     "text": [
      "1.2618008\n"
     ]
    }
   ],
   "source": [
    "#calculate Conditional generation fidelity mse\n",
    "activity1 = y_hat_syn\n",
    "activity2 = y_hat_test\n",
    "mse = conditional_generation_fidelity(activity1, activity2)\n",
    "print(mse)"
   ]
  },
  {
   "cell_type": "markdown",
   "id": "c11b53a3-7f74-4509-a0cb-ebc606b227bb",
   "metadata": {},
   "source": [
    "<h2>Functional similarity: Frechet distance</h2>"
   ]
  },
  {
   "cell_type": "code",
   "execution_count": 6,
   "id": "46780a8e-0867-455d-8ad1-9b0dc37613d6",
   "metadata": {},
   "outputs": [],
   "source": [
    "embeddings1 = get_penultimate_embeddings(deepstarr, x_test_tensor)"
   ]
  },
  {
   "cell_type": "code",
   "execution_count": 7,
   "id": "3377565c-d2f0-4b4f-86bb-0a7a3454ad0e",
   "metadata": {},
   "outputs": [],
   "source": [
    "embeddings2 = get_penultimate_embeddings(deepstarr, x_synthetic_tensor)"
   ]
  },
  {
   "cell_type": "code",
   "execution_count": 11,
   "id": "e8976242-ad9f-48f3-bf71-edbf1f017784",
   "metadata": {},
   "outputs": [],
   "source": [
    "mu1, sigma1 = calculate_activation_statistics(embeddings1)"
   ]
  },
  {
   "cell_type": "code",
   "execution_count": 12,
   "id": "ce5879f5-14f9-424a-8f63-824da58f947e",
   "metadata": {},
   "outputs": [],
   "source": [
    "mu2, sigma2 = calculate_activation_statistics(embeddings2)"
   ]
  },
  {
   "cell_type": "code",
   "execution_count": 13,
   "id": "852c58ef-6058-4ee3-afb0-a7e16021fd4c",
   "metadata": {},
   "outputs": [],
   "source": [
    "distance = calculate_frechet_distance(mu1, sigma1, mu2, sigma2)"
   ]
  },
  {
   "cell_type": "code",
   "execution_count": 14,
   "id": "9f9f59fd-553d-4590-ac87-b22275e77f2e",
   "metadata": {},
   "outputs": [
    {
     "data": {
      "text/plain": [
       "0.32809665113524034"
      ]
     },
     "execution_count": 14,
     "metadata": {},
     "output_type": "execute_result"
    }
   ],
   "source": [
    "distance"
   ]
  },
  {
   "cell_type": "markdown",
   "id": "c91e532b-efda-4f42-88c2-f450765ab143",
   "metadata": {},
   "source": [
    "<h2>Functional similarity: Predictive distribution shift</h2>"
   ]
  },
  {
   "cell_type": "code",
   "execution_count": 6,
   "id": "caa1331e-2aef-4f33-bbbb-22ec3e819957",
   "metadata": {},
   "outputs": [
    {
     "data": {
      "text/plain": [
       "0.007824236293496212"
      ]
     },
     "execution_count": 6,
     "metadata": {},
     "output_type": "execute_result"
    }
   ],
   "source": [
    "predictive_distribution_shift(x_synthetic_tensor, x_test_tensor)"
   ]
  },
  {
   "cell_type": "markdown",
   "id": "86210ddc-1a65-43e1-a3b4-1ed8a978c728",
   "metadata": {},
   "source": [
    "<h2>Sequence similarity: k-mer spectrum shift</h2>"
   ]
  },
  {
   "cell_type": "code",
   "execution_count": 6,
   "id": "481aba9b-8ef1-45b6-82b2-0f6b179a2398",
   "metadata": {},
   "outputs": [],
   "source": [
    "X_test, X_syn = prepare_deepstarr_for_kmer(x_test_tensor, x_synthetic_tensor)"
   ]
  },
  {
   "cell_type": "code",
   "execution_count": 7,
   "id": "8ae371cd-6c3a-4981-b6ca-fcbc0218d9be",
   "metadata": {},
   "outputs": [
    {
     "name": "stderr",
     "output_type": "stream",
     "text": [
      "100%|██████████████████████████████████| 41186/41186 [00:04<00:00, 10208.53it/s]\n",
      "100%|██████████████████████████████████| 41186/41186 [00:04<00:00, 10256.48it/s]\n"
     ]
    },
    {
     "data": {
      "text/plain": [
       "(0.001412, 0.018828)"
      ]
     },
     "execution_count": 7,
     "metadata": {},
     "output_type": "execute_result"
    }
   ],
   "source": [
    "kmer_statistics(3, X_test, X_syn)"
   ]
  },
  {
   "cell_type": "markdown",
   "id": "01d137c1-c5d5-4804-8a36-fc7a61161ed1",
   "metadata": {},
   "source": [
    "<h2>Sequence similarity: Discriminatability</h2>"
   ]
  },
  {
   "cell_type": "code",
   "execution_count": null,
   "id": "ab918597-7f77-46e3-a41f-5c3ab3bf18bf",
   "metadata": {},
   "outputs": [],
   "source": []
  }
 ],
 "metadata": {
  "kernelspec": {
   "display_name": "Python 3 (ipykernel)",
   "language": "python",
   "name": "python3"
  },
  "language_info": {
   "codemirror_mode": {
    "name": "ipython",
    "version": 3
   },
   "file_extension": ".py",
   "mimetype": "text/x-python",
   "name": "python",
   "nbconvert_exporter": "python",
   "pygments_lexer": "ipython3",
   "version": "3.12.4"
  }
 },
 "nbformat": 4,
 "nbformat_minor": 5
}
